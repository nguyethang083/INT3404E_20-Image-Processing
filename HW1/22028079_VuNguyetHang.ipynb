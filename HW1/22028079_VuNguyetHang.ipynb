{
  "nbformat": 4,
  "nbformat_minor": 0,
  "metadata": {
    "colab": {
      "provenance": []
    },
    "kernelspec": {
      "name": "python3",
      "display_name": "Python 3"
    }
  },
  "cells": [
    {
      "cell_type": "markdown",
      "metadata": {
        "id": "YV4sYCn8EPwb"
      },
      "source": [
        "# Notebooks"
      ]
    },
    {
      "cell_type": "markdown",
      "metadata": {
        "id": "2HuuwOcQEYQI"
      },
      "source": [
        " Colab cho phép chạy notebooks trên đám mây miễn phí mà không cần cài đặt trước, đồng thời tận dụng sức mạnh của GPUs."
      ]
    },
    {
      "cell_type": "markdown",
      "metadata": {
        "id": "t0XmMkPuGGOs"
      },
      "source": [
        "Notebooks bao gồm các ô mã (code cells), gồm các khối chứa một hoặc nhiều lệnh Python. Ví dụ, dưới đây là một ô mã lưu kết quả của một phép tính (số giây trong một ngày) vào một biến (seconds_in_a_day) và in ra giá trị của nó:"
      ]
    },
    {
      "cell_type": "code",
      "metadata": {
        "id": "qeGAvLq1ALJ4",
        "colab": {
          "base_uri": "https://localhost:8080/"
        },
        "outputId": "70a903af-ec87-4abf-f8e7-bfe7501e3b82"
      },
      "source": [
        "seconds_in_a_day = 24 * 60 * 60\n",
        "seconds_in_a_day"
      ],
      "execution_count": 4,
      "outputs": [
        {
          "output_type": "execute_result",
          "data": {
            "text/plain": [
              "86400"
            ]
          },
          "metadata": {},
          "execution_count": 4
        }
      ]
    },
    {
      "cell_type": "markdown",
      "metadata": {
        "id": "njoPs3q1G75-"
      },
      "source": [
        "**Nhấp** vào nút \"play\" để thực thi ô mã. Bạn sẽ có thể thấy kết quả. Ngoài ra, bạn cũng có thể thực thi ô mã bằng cách nhấn Ctrl + Enter (trên Windows / Linux) hoặc Command + Enter (trên Mac)."
      ]
    },
    {
      "cell_type": "markdown",
      "metadata": {
        "id": "NvdYaBgHHdbw"
      },
      "source": [
        "Các biến mà bạn định nghĩa trong một ô mã có thể được sử dụng sau đó trong các ô mã khác."
      ]
    },
    {
      "cell_type": "code",
      "metadata": {
        "id": "s1kp5Zv0JBSx",
        "colab": {
          "base_uri": "https://localhost:8080/"
        },
        "outputId": "73474acf-fd61-4551-e701-dc302cdb21ad"
      },
      "source": [
        "seconds_in_a_week = 7 * seconds_in_a_day\n",
        "seconds_in_a_week"
      ],
      "execution_count": 30,
      "outputs": [
        {
          "output_type": "execute_result",
          "data": {
            "text/plain": [
              "604800"
            ]
          },
          "metadata": {},
          "execution_count": 30
        }
      ]
    },
    {
      "cell_type": "markdown",
      "metadata": {
        "id": "uALfY4q1JFQ0"
      },
      "source": [
        "Lưu ý rằng thứ tự thực thi là quan trọng. Ví dụ, nếu chúng ta không thực thi ô mã lưu giá trị của \"seconds_in_a_day\" trước đó, ô mã trên sẽ gây ra lỗi, vì nó phụ thuộc vào biến này. Để đảm bảo rằng bạn chạy tất cả các ô mã theo đúng thứ tự, bạn cũng có thể nhấp vào \"Runtime\" trong menu cấp độ cao nhất, sau đó chọn \"Run all\"."
      ]
    },
    {
      "cell_type": "markdown",
      "metadata": {
        "id": "HvXs_KaoRWQ9"
      },
      "source": [
        "**Bài tập.** Thêm một ô mã bên dưới ô mã này: nhấp vào ô mã này sau đó nhấp vào \"+ Code\". Trong ô mã mới, tính số giây trong một năm bằng cách sử dụng lại biến seconds_in_a_day."
      ]
    },
    {
      "cell_type": "code",
      "source": [
        "seconds_in_a_year = 365 * seconds_in_a_day\n",
        "seconds_in_a_year"
      ],
      "metadata": {
        "colab": {
          "base_uri": "https://localhost:8080/"
        },
        "id": "s6eWY4q2Npq3",
        "outputId": "a970bafb-ffe2-41da-b78c-72171b0c1320"
      },
      "execution_count": 32,
      "outputs": [
        {
          "output_type": "execute_result",
          "data": {
            "text/plain": [
              "31536000"
            ]
          },
          "metadata": {},
          "execution_count": 32
        }
      ]
    },
    {
      "cell_type": "markdown",
      "source": [
        "Mount Drive into Google Colaboratory"
      ],
      "metadata": {
        "id": "735WtS0c8b6t"
      }
    },
    {
      "cell_type": "markdown",
      "source": [
        "Khi tắt Google Colaboratory, toàn bộ dữ liệu lưu trên Google Colab sẽ bị xóa, vì vậy, để tránh bị mất mát dữ liệu, chúng ta nên lưu trên trên Google Drive. Phía dưới là code giúp chúng ta liên kết giữa Google Drive và Google Colab. Google Drive giờ đóng vai trò như \"một ổ cứng di động\""
      ],
      "metadata": {
        "id": "xoK0pPGC9T6C"
      }
    },
    {
      "cell_type": "code",
      "source": [
        "from google.colab import drive\n",
        "drive.mount('/gdrive')"
      ],
      "metadata": {
        "colab": {
          "base_uri": "https://localhost:8080/"
        },
        "id": "UheVqVuD9C8i",
        "outputId": "d5b6f8a2-bbee-4912-c0dd-6f49de7821f3"
      },
      "execution_count": 6,
      "outputs": [
        {
          "output_type": "stream",
          "name": "stdout",
          "text": [
            "Mounted at /gdrive\n"
          ]
        }
      ]
    },
    {
      "cell_type": "markdown",
      "metadata": {
        "id": "qyLSwlxnJqXX"
      },
      "source": [
        "# Python"
      ]
    },
    {
      "cell_type": "markdown",
      "metadata": {
        "id": "3ltwm91eJyQM"
      },
      "source": [
        "Python là một trong những ngôn ngữ lập trình phổ biến nhất cho học máy, cả trong giới học thuật lẫn trong ngành công nghiệp. Trong phần này, chúng ta sẽ xem xét các kiến thức cơ bản về Python."
      ]
    },
    {
      "cell_type": "markdown",
      "metadata": {
        "id": "3EKvP6jiMZ9H"
      },
      "source": [
        "## Phép toán"
      ]
    },
    {
      "cell_type": "markdown",
      "metadata": {
        "id": "DDjs0-7YQ80h"
      },
      "source": [
        "Python hỗ trợ các phép toán cơ bản sau: + (cộng), * (nhân), / (chia), ** (mũ), // (chia lấy phần nguyên)."
      ]
    },
    {
      "cell_type": "markdown",
      "metadata": {
        "id": "UhcbBQUiStHG"
      },
      "source": [
        "## Lists (danh sách)"
      ]
    },
    {
      "cell_type": "markdown",
      "metadata": {
        "id": "RkPn1IjNTCxA"
      },
      "source": [
        "Danh sách (list) là một loại cấu trúc dùng để lưu trữ một chuỗi các phần tử theo thứ tự. Danh sách có thể được khởi tạo rỗng."
      ]
    },
    {
      "cell_type": "code",
      "metadata": {
        "id": "OrnV1ySAPtHp"
      },
      "source": [
        "my_list = []"
      ],
      "execution_count": 33,
      "outputs": []
    },
    {
      "cell_type": "markdown",
      "metadata": {
        "id": "OwRqyYI9XnPK"
      },
      "source": [
        "hoặc khởi tạo với một số phần tử"
      ]
    },
    {
      "cell_type": "code",
      "metadata": {
        "id": "Uq5YTJ1JXpOX"
      },
      "source": [
        "my_list = [1, 2, 3]"
      ],
      "execution_count": 34,
      "outputs": []
    },
    {
      "cell_type": "markdown",
      "metadata": {
        "id": "Hk2WmojJXyyz"
      },
      "source": [
        "Danh sách có kích thước động và các phần tử có thể được thêm (appended)."
      ]
    },
    {
      "cell_type": "code",
      "metadata": {
        "id": "QFTNqiYiXxAh",
        "colab": {
          "base_uri": "https://localhost:8080/"
        },
        "outputId": "3df96201-4f18-43de-dfa2-043bf206eac2"
      },
      "source": [
        "my_list.append(4)\n",
        "my_list"
      ],
      "execution_count": 35,
      "outputs": [
        {
          "output_type": "execute_result",
          "data": {
            "text/plain": [
              "[1, 2, 3, 4]"
            ]
          },
          "metadata": {},
          "execution_count": 35
        }
      ]
    },
    {
      "cell_type": "markdown",
      "metadata": {
        "id": "IUnJuqQ2Yhzw"
      },
      "source": [
        "Chúng ta có thể tiếp cận đến từng phần tử của danh sách"
      ]
    },
    {
      "cell_type": "code",
      "metadata": {
        "id": "pyFxyZPVYpG_",
        "colab": {
          "base_uri": "https://localhost:8080/"
        },
        "outputId": "91e82484-3772-4c46-fcd4-2eab02c2e3c9"
      },
      "source": [
        "my_list[2]"
      ],
      "execution_count": 36,
      "outputs": [
        {
          "output_type": "execute_result",
          "data": {
            "text/plain": [
              "3"
            ]
          },
          "metadata": {},
          "execution_count": 36
        }
      ]
    },
    {
      "cell_type": "markdown",
      "metadata": {
        "id": "hPMrIDYsdgMP"
      },
      "source": [
        "Chúng ta có thể truy cập \"slice\" của một danh sách bằng cách sử dụng `my_list[i:j]` trong đó i là vị trí bắt đầu của slice (lưu ý, chỉ mục bắt đầu từ 0) và j là vị trí kết thúc của slice. Ví dụ:"
      ]
    },
    {
      "cell_type": "code",
      "metadata": {
        "id": "Ichf9p0gd7tJ",
        "colab": {
          "base_uri": "https://localhost:8080/"
        },
        "outputId": "98f78eae-eb9d-4ea4-c8f1-ac8a72db4402"
      },
      "source": [
        "my_list[1:3]"
      ],
      "execution_count": 11,
      "outputs": [
        {
          "output_type": "execute_result",
          "data": {
            "text/plain": [
              "[2, 3]"
            ]
          },
          "metadata": {},
          "execution_count": 11
        }
      ]
    },
    {
      "cell_type": "markdown",
      "metadata": {
        "id": "KMbzH4tzQ9rI"
      },
      "source": [
        "Việc bỏ qua chỉ mục thứ hai có nghĩa là slice sẽ chạy đến cuối danh sách.\n",
        "\n",
        "\n"
      ]
    },
    {
      "cell_type": "code",
      "metadata": {
        "id": "O7wCthKnREKV",
        "colab": {
          "base_uri": "https://localhost:8080/"
        },
        "outputId": "2ff6716c-37bb-49af-811b-d82adb10d3e2"
      },
      "source": [
        "my_list[1:]"
      ],
      "execution_count": 12,
      "outputs": [
        {
          "output_type": "execute_result",
          "data": {
            "text/plain": [
              "[2, 3, 4]"
            ]
          },
          "metadata": {},
          "execution_count": 12
        }
      ]
    },
    {
      "cell_type": "markdown",
      "metadata": {
        "id": "C5Aeu7PUebrK"
      },
      "source": [
        "Chúng ta có thể kiểm tra xem một phần tử có trong danh sách hay không bằng cách sử dụng từ khóa `in`."
      ]
    },
    {
      "cell_type": "code",
      "metadata": {
        "id": "a_P5NCi-efvb",
        "colab": {
          "base_uri": "https://localhost:8080/"
        },
        "outputId": "101f32fb-88ef-4e3e-a8cc-4bbe4bee3e39"
      },
      "source": [
        "5 in my_list"
      ],
      "execution_count": 13,
      "outputs": [
        {
          "output_type": "execute_result",
          "data": {
            "text/plain": [
              "False"
            ]
          },
          "metadata": {},
          "execution_count": 13
        }
      ]
    },
    {
      "cell_type": "markdown",
      "metadata": {
        "id": "LypIsP5gkl10"
      },
      "source": [
        "Độ dài của một danh sách có thể được lấy bằng cách sử dụng hàm len."
      ]
    },
    {
      "cell_type": "code",
      "metadata": {
        "id": "ac0FMsaKkrWc",
        "colab": {
          "base_uri": "https://localhost:8080/"
        },
        "outputId": "4335a60f-5e51-4923-bcf0-54bf01b28c14"
      },
      "source": [
        "len(my_list)"
      ],
      "execution_count": 14,
      "outputs": [
        {
          "output_type": "execute_result",
          "data": {
            "text/plain": [
              "4"
            ]
          },
          "metadata": {},
          "execution_count": 14
        }
      ]
    },
    {
      "cell_type": "markdown",
      "metadata": {
        "id": "1c3RLStf7G2I"
      },
      "source": [
        "## Strings"
      ]
    },
    {
      "cell_type": "markdown",
      "metadata": {
        "id": "Jm6hZhgz7KhI"
      },
      "source": [
        "Chuỗi (String) được sử dụng để lưu trữ văn bản. Chúng có thể được phân cách bằng dấu nháy đơn hoặc dấu nháy kép."
      ]
    },
    {
      "cell_type": "code",
      "metadata": {
        "id": "cCma6Oj_7T8n"
      },
      "source": [
        "string1 = \"some text\"\n",
        "string2 = 'some other text'"
      ],
      "execution_count": 15,
      "outputs": []
    },
    {
      "cell_type": "markdown",
      "metadata": {
        "id": "Irr4xuWu7Znu"
      },
      "source": [
        "Chuỗi hoạt động tương tự như danh sách. Do đó, chúng ta có thể truy cập các phần tử riêng lẻ theo cách tương tự."
      ]
    },
    {
      "cell_type": "code",
      "metadata": {
        "id": "26_POhLO7iM3",
        "colab": {
          "base_uri": "https://localhost:8080/",
          "height": 36
        },
        "outputId": "dd7ed2f9-845c-487b-9242-058a899506ec"
      },
      "source": [
        "string1[3]"
      ],
      "execution_count": 16,
      "outputs": [
        {
          "output_type": "execute_result",
          "data": {
            "text/plain": [
              "'e'"
            ],
            "application/vnd.google.colaboratory.intrinsic+json": {
              "type": "string"
            }
          },
          "metadata": {},
          "execution_count": 16
        }
      ]
    },
    {
      "cell_type": "markdown",
      "metadata": {
        "id": "oA_UD0JV7oPw"
      },
      "source": [
        "Và tương tự cho các slice."
      ]
    },
    {
      "cell_type": "code",
      "metadata": {
        "id": "dcZFcLqQ7qCe",
        "colab": {
          "base_uri": "https://localhost:8080/",
          "height": 36
        },
        "outputId": "d542f2fb-9d11-4840-fcba-4a7adde144c0"
      },
      "source": [
        "string1[5:]"
      ],
      "execution_count": 17,
      "outputs": [
        {
          "output_type": "execute_result",
          "data": {
            "text/plain": [
              "'text'"
            ],
            "application/vnd.google.colaboratory.intrinsic+json": {
              "type": "string"
            }
          },
          "metadata": {},
          "execution_count": 17
        }
      ]
    },
    {
      "cell_type": "markdown",
      "metadata": {
        "id": "hOQ_CIiu76YG"
      },
      "source": [
        "Việc ghép chuỗi được thực hiện bằng toán tử +."
      ]
    },
    {
      "cell_type": "code",
      "metadata": {
        "id": "mxqNMKCY79_W",
        "colab": {
          "base_uri": "https://localhost:8080/",
          "height": 36
        },
        "outputId": "a420432a-c17c-468a-850b-2e4345b91f6d"
      },
      "source": [
        "string1 + \" \" + string2"
      ],
      "execution_count": 18,
      "outputs": [
        {
          "output_type": "execute_result",
          "data": {
            "text/plain": [
              "'some text some other text'"
            ],
            "application/vnd.google.colaboratory.intrinsic+json": {
              "type": "string"
            }
          },
          "metadata": {},
          "execution_count": 18
        }
      ]
    },
    {
      "cell_type": "markdown",
      "metadata": {
        "id": "7Lox2GZCMdIB"
      },
      "source": [
        "## Conditionals (Câu lệnh điều kiện)"
      ]
    },
    {
      "cell_type": "markdown",
      "metadata": {
        "id": "-gXEAWFZfDTT"
      },
      "source": [
        "Như tên của chúng cho thấy, câu lệnh điều kiện là một cách để thực thi mã tùy thuộc vào điều kiện là True hay False. Tương tự như trong các ngôn ngữ khác, Python hỗ trợ if và else, nhưng else if được rút gọn thành elif, như ví dụ dưới đây minh họa."
      ]
    },
    {
      "cell_type": "code",
      "metadata": {
        "id": "xC_DMZjofoYZ",
        "colab": {
          "base_uri": "https://localhost:8080/"
        },
        "outputId": "a3f3a3a7-2580-494e-cfbd-c0db28fb7ed3"
      },
      "source": [
        "my_variable = 5\n",
        "if my_variable < 0:\n",
        "  print(\"negative\")\n",
        "elif my_variable == 0:\n",
        "  print(\"null\")\n",
        "else: # my_variable > 0\n",
        "  print(\"positive\")"
      ],
      "execution_count": 19,
      "outputs": [
        {
          "output_type": "stream",
          "name": "stdout",
          "text": [
            "positive\n"
          ]
        }
      ]
    },
    {
      "cell_type": "markdown",
      "metadata": {
        "id": "Ag0SUokSf9jl"
      },
      "source": [
        "Ở đây, < và > là các toán tử nhỏ hơn và lớn hơn nghiêm ngặt, trong khi == là toán tử so sánh bằng nhau (không nên nhầm lẫn với =, toán tử gán giá trị cho biến). Các toán tử <= và >= có thể được sử dụng để so sánh nhỏ hơn hoặc bằng (tương ứng lớn hơn hoặc bằng)."
      ]
    },
    {
      "cell_type": "markdown",
      "metadata": {
        "id": "qTkQ2F_jy8wz"
      },
      "source": [
        "Khác với các ngôn ngữ khác, các khối mã được phân định bằng thụt vào. Ở đây, chúng ta sử dụng thụt vào 2 khoảng trắng, nhưng nhiều lập trình viên cũng sử dụng thụt vào 4 khoảng trắng. Bất cứ cách nào cũng được miễn là bạn nhất quán trong toàn bộ mã của mình."
      ]
    },
    {
      "cell_type": "markdown",
      "metadata": {
        "id": "clWaFCzBMfkv"
      },
      "source": [
        "## Loops (Vòng lặp)"
      ]
    },
    {
      "cell_type": "markdown",
      "metadata": {
        "id": "_A5doqhTivWe"
      },
      "source": [
        "\n",
        "Vòng lặp là một cách để thực thi một khối mã nhiều lần. Có hai loại vòng lặp chính: vòng lặp while và vòng lặp for."
      ]
    },
    {
      "cell_type": "markdown",
      "metadata": {
        "id": "YN8lwTxQkGEa"
      },
      "source": [
        "While loop"
      ]
    },
    {
      "cell_type": "code",
      "metadata": {
        "id": "7-QXGqgOjsr_",
        "colab": {
          "base_uri": "https://localhost:8080/"
        },
        "outputId": "832516a9-b29f-41a6-bf87-546e5234bcbc"
      },
      "source": [
        "i = 0\n",
        "while i < len(my_list):\n",
        "  print(my_list[i])\n",
        "  i += 1 # equivalent to i = i + 1"
      ],
      "execution_count": 20,
      "outputs": [
        {
          "output_type": "stream",
          "name": "stdout",
          "text": [
            "1\n",
            "2\n",
            "3\n",
            "4\n"
          ]
        }
      ]
    },
    {
      "cell_type": "markdown",
      "metadata": {
        "id": "8mEI_ocfkSvZ"
      },
      "source": [
        "For loop"
      ]
    },
    {
      "cell_type": "code",
      "metadata": {
        "id": "2QObx5mckMcI",
        "colab": {
          "base_uri": "https://localhost:8080/"
        },
        "outputId": "73ed4616-19c1-4908-e1d3-9b0a5e80c5ea"
      },
      "source": [
        "for i in range(len(my_list)):\n",
        "  print(my_list[i])"
      ],
      "execution_count": 21,
      "outputs": [
        {
          "output_type": "stream",
          "name": "stdout",
          "text": [
            "1\n",
            "2\n",
            "3\n",
            "4\n"
          ]
        }
      ]
    },
    {
      "cell_type": "markdown",
      "metadata": {
        "id": "XO6qqppikZvm"
      },
      "source": [
        "Nếu mục tiêu đơn giản chỉ là lặp lại qua một danh sách, chúng ta có thể làm như sau:"
      ]
    },
    {
      "cell_type": "code",
      "metadata": {
        "id": "PjFKzN6zkeJ7",
        "colab": {
          "base_uri": "https://localhost:8080/"
        },
        "outputId": "d1786f32-1ccc-4c6f-afa2-ca08318e8fa3"
      },
      "source": [
        "for element in my_list:\n",
        "  print(element)"
      ],
      "execution_count": 22,
      "outputs": [
        {
          "output_type": "stream",
          "name": "stdout",
          "text": [
            "1\n",
            "2\n",
            "3\n",
            "4\n"
          ]
        }
      ]
    },
    {
      "cell_type": "markdown",
      "metadata": {
        "id": "Cck4zwYrex02"
      },
      "source": [
        "## Functions (Hàm)"
      ]
    },
    {
      "cell_type": "markdown",
      "metadata": {
        "id": "n1PbIf_ohxFO"
      },
      "source": [
        "Để cải thiện tính đọc hiểu của mã, thường được tách thành các khối khác nhau, chịu trách nhiệm thực hiện các hành động cụ thể: các hàm (functions). Một hàm nhận đầu vào và xử lý chúng để trả về đầu ra."
      ]
    },
    {
      "cell_type": "code",
      "metadata": {
        "id": "cImA09gOhRmx",
        "colab": {
          "base_uri": "https://localhost:8080/"
        },
        "outputId": "6bec763e-2114-4baa-c2c6-1c79ba78fd8f"
      },
      "source": [
        "def square(x):\n",
        "  return x ** 2\n",
        "\n",
        "def multiply(a, b):\n",
        "  return a * b\n",
        "\n",
        "# Functions can be composed.\n",
        "square(multiply(3, 2))"
      ],
      "execution_count": 23,
      "outputs": [
        {
          "output_type": "execute_result",
          "data": {
            "text/plain": [
              "36"
            ]
          },
          "metadata": {},
          "execution_count": 23
        }
      ]
    },
    {
      "cell_type": "markdown",
      "metadata": {
        "id": "75-5SOk9iYSt"
      },
      "source": [
        "Để cải thiện tính đọc hiểu của mã, đôi khi hữu ích để đặt tên rõ ràng cho các đối số."
      ]
    },
    {
      "cell_type": "code",
      "metadata": {
        "id": "wkIUuZHhidI0",
        "colab": {
          "base_uri": "https://localhost:8080/"
        },
        "outputId": "0b0277ea-e646-4965-eb04-01da4e761e63"
      },
      "source": [
        "square(multiply(a=3, b=2))"
      ],
      "execution_count": 24,
      "outputs": [
        {
          "output_type": "execute_result",
          "data": {
            "text/plain": [
              "36"
            ]
          },
          "metadata": {},
          "execution_count": 24
        }
      ]
    },
    {
      "cell_type": "markdown",
      "metadata": {
        "id": "LkpwbQEVMys2"
      },
      "source": [
        "## Bài tập"
      ]
    },
    {
      "cell_type": "markdown",
      "metadata": {
        "id": "ASpVhol9ZXI0"
      },
      "source": [
        "**Bài tập 1.** Sử dụng câu lệnh điều kiện, viết hàm [relu](https://en.wikipedia.org/wiki/Rectifier_(neural_networks)) được định nghĩa như sau\n",
        "\n",
        "$\\text{relu}(x) = \\left\\{\n",
        "   \\begin{array}{rl}\n",
        "     x, & \\text{if }  x \\ge 0 \\\\\n",
        "     0, & \\text{trường hợp khác }.\n",
        "   \\end{array}\\right.$"
      ]
    },
    {
      "cell_type": "code",
      "metadata": {
        "id": "jlgyu65SaUvr",
        "colab": {
          "base_uri": "https://localhost:8080/"
        },
        "outputId": "18c188bb-9fd5-4a77-a9eb-ed368a6a9865"
      },
      "source": [
        "def relu(x):\n",
        "  # Write your function here\n",
        "  if x >= 0:\n",
        "    return x\n",
        "  else: return 0\n",
        "  return\n",
        "\n",
        "relu(-3)"
      ],
      "execution_count": 37,
      "outputs": [
        {
          "output_type": "execute_result",
          "data": {
            "text/plain": [
              "0"
            ]
          },
          "metadata": {},
          "execution_count": 37
        }
      ]
    },
    {
      "cell_type": "markdown",
      "metadata": {
        "id": "SEXIh_e9cW3S"
      },
      "source": [
        "**Bài tập 2.** Sử dụng vòng lặp for và câu lệnh điều kiện, viết một hàm trả về giá trị lớn nhất trong một vector."
      ]
    },
    {
      "cell_type": "code",
      "metadata": {
        "id": "zd9ntMq0cb2e",
        "colab": {
          "base_uri": "https://localhost:8080/"
        },
        "outputId": "b8d03e5d-5efb-4a61-829f-dd21bbbcb8b4"
      },
      "source": [
        "def vector_maximum(vector):\n",
        "  # Write your function here\n",
        "  max = vector[0]\n",
        "  i = 0\n",
        "  while i < len(vector):\n",
        "    if vector[i] > max:\n",
        "      max = vector[i]\n",
        "    i+=1\n",
        "  return max\n",
        "  return\n",
        "\n",
        "my_vector = [0.5, -1.2, 3.3, 4.5]\n",
        "vector_maximum(my_vector)"
      ],
      "execution_count": 40,
      "outputs": [
        {
          "output_type": "execute_result",
          "data": {
            "text/plain": [
              "4.5"
            ]
          },
          "metadata": {},
          "execution_count": 40
        }
      ]
    },
    {
      "cell_type": "markdown",
      "metadata": {
        "id": "qPAZA4OMc6sT"
      },
      "source": [
        "**Bài tập 3.** Nếu có thời gian, hãy viết một hàm sắp xếp một danh sách theo thứ tự tăng dần (từ bé đến lớn) bằng thuật toán sắp xếp [nổi bọt](https://en.wikipedia.org/wiki/Bubble_sort)."
      ]
    },
    {
      "cell_type": "code",
      "metadata": {
        "id": "sBokdJO4dGyf",
        "colab": {
          "base_uri": "https://localhost:8080/"
        },
        "outputId": "9ffabd98-3436-4a26-a92d-8d5267832ddb"
      },
      "source": [
        "def bubble_sort(my_list):\n",
        "  # Write your function here\n",
        "  n = len(my_list)\n",
        "  for i in range(n):\n",
        "    for j in range(0, n - i - 1):\n",
        "      if my_list[j] > my_list[j + 1]:\n",
        "        my_list[j], my_list[j + 1] = my_list[j + 1], my_list[j]\n",
        "  return my_list\n",
        "  return\n",
        "\n",
        "my_list = [1, -3, 3, 2]\n",
        "# Should return [-3, 1, 2, 3]\n",
        "bubble_sort(my_list)"
      ],
      "execution_count": 41,
      "outputs": [
        {
          "output_type": "execute_result",
          "data": {
            "text/plain": [
              "[-3, 1, 2, 3]"
            ]
          },
          "metadata": {},
          "execution_count": 41
        }
      ]
    },
    {
      "cell_type": "markdown",
      "source": [
        "**Bài tập 4.** Calculate the probability density function of a  Round the value to 2 decimals.\n",
        "\n",
        "Tính hàm mật độ xác suất của phân phối [Gaussian (chuẩn)](https://en.wikipedia.org/wiki/Normal_distribution). Làm tròn giá trị đến 2 chữ số thập phân."
      ],
      "metadata": {
        "id": "_K4pGSIe4ufd"
      }
    },
    {
      "cell_type": "code",
      "source": [
        "import math\n",
        "\n",
        "def gaussian_pdf(x, mu=0, sigma=1): # mu: giá trị trung bình, sigma: độ lệch chuẩn, pi=math.pi, exp=math.exp\n",
        "  # Write your function here\n",
        "  result = (1 / (sigma * math.sqrt(2 * math.pi))) * math.exp(-0.5 * ((x - mu) / sigma) ** 2)\n",
        "  return round(result, 2)\n",
        "  return\n",
        "\n",
        "x = 2\n",
        "# Should return 0.05\n",
        "gaussian_pdf(x)"
      ],
      "metadata": {
        "id": "CBvnWtcc5kqH",
        "colab": {
          "base_uri": "https://localhost:8080/"
        },
        "outputId": "80867341-718b-4526-f8b8-42e06d5a6b25"
      },
      "execution_count": 42,
      "outputs": [
        {
          "output_type": "execute_result",
          "data": {
            "text/plain": [
              "0.05"
            ]
          },
          "metadata": {},
          "execution_count": 42
        }
      ]
    },
    {
      "cell_type": "markdown",
      "metadata": {
        "id": "jDxjvtEEM1vg"
      },
      "source": [
        "# Tài liệu thêm"
      ]
    },
    {
      "cell_type": "markdown",
      "metadata": {
        "id": "wRkmvzf-PdEp"
      },
      "source": [
        "Rõ ràng là không thể đề cập đến tất cả các tính năng của ngôn ngữ trong phần giới thiệu ngắn này. Để tìm hiểu thêm, chúng tôi đề xuất những tài nguyên sau đây."
      ]
    },
    {
      "cell_type": "markdown",
      "metadata": {
        "id": "n8nbPoWclRlH"
      },
      "source": [
        "\n",
        "\n",
        "*   Khóa Python: [Coursera](https://www.coursera.org/learn/python-programming-intro)\n",
        "* Tổng quan về Google Colaboratory [tutorials](https://colab.research.google.com/notebooks/basic_features_overview.ipynb)\n"
      ]
    },
    {
      "cell_type": "markdown",
      "source": [
        "Credit for Mathieu Blondel"
      ],
      "metadata": {
        "id": "JvwRyaY-715O"
      }
    }
  ]
}